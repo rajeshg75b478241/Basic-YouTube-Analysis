{
 "cells": [
  {
   "cell_type": "code",
   "execution_count": null,
   "metadata": {},
   "outputs": [],
   "source": [
    "from pytube import YouTube\n",
    "from pytube import Channel"
   ]
  },
  {
   "cell_type": "code",
   "execution_count": null,
   "metadata": {},
   "outputs": [],
   "source": [
    "c = Channel(\"https://www.youtube.com/c/ShantanuKumar/videos\")"
   ]
  },
  {
   "cell_type": "code",
   "execution_count": null,
   "metadata": {},
   "outputs": [],
   "source": [
    "url_list = []"
   ]
  },
  {
   "cell_type": "code",
   "execution_count": null,
   "metadata": {},
   "outputs": [],
   "source": [
    "for url in c.video_urls:\n",
    "    url_list.append(url)"
   ]
  },
  {
   "cell_type": "code",
   "execution_count": null,
   "metadata": {},
   "outputs": [],
   "source": [
    "print(url_list[0])"
   ]
  },
  {
   "cell_type": "code",
   "execution_count": null,
   "metadata": {},
   "outputs": [],
   "source": [
    "count = len(url_list)\n",
    "print(\"CHANNEL TOTAL VIDEO COUNT: \",count)"
   ]
  },
  {
   "cell_type": "code",
   "execution_count": null,
   "metadata": {},
   "outputs": [],
   "source": [
    "class Youtube:\n",
    "    def thamnail_url():\n",
    "        for x in video_urls:\n",
    "            print(YouTube(x).thumbnail_url)\n",
    "            print(\"...\")\n",
    "        return \n",
    "    def titles():\n",
    "        for y in url_list:\n",
    "            print(YouTube(y).title)\n",
    "            print(\"...\")\n",
    "        return\n",
    "    def length():\n",
    "        for z in url_list:\n",
    "            print((YouTube(z).length) / 60)\n",
    "            print(\"...\")\n",
    "        return \n",
    "    def views():\n",
    "        for a in url_list:\n",
    "            print(YouTube(a).views)\n",
    "            print(\"...\")\n",
    "        return \n",
    "    \n",
    "youtube = Youtube    "
   ]
  },
  {
   "cell_type": "code",
   "execution_count": null,
   "metadata": {},
   "outputs": [],
   "source": [
    "youtube.views()"
   ]
  },
  {
   "cell_type": "code",
   "execution_count": null,
   "metadata": {},
   "outputs": [],
   "source": []
  }
 ],
 "metadata": {
  "kernelspec": {
   "display_name": "Python 3",
   "language": "python",
   "name": "python3"
  },
  "language_info": {
   "codemirror_mode": {
    "name": "ipython",
    "version": 3
   },
   "file_extension": ".py",
   "mimetype": "text/x-python",
   "name": "python",
   "nbconvert_exporter": "python",
   "pygments_lexer": "ipython3",
   "version": "3.7.6"
  }
 },
 "nbformat": 4,
 "nbformat_minor": 4
}
